{
 "cells": [
  {
   "attachments": {},
   "cell_type": "markdown",
   "id": "8c517c0d",
   "metadata": {},
   "source": [
    "## Data Industry Jobs "
   ]
  },
  {
   "cell_type": "code",
   "execution_count": 11,
   "id": "514a237c",
   "metadata": {},
   "outputs": [],
   "source": [
    "using CSV, DataFrames"
   ]
  },
  {
   "cell_type": "code",
   "execution_count": 19,
   "id": "972ee315",
   "metadata": {},
   "outputs": [
    {
     "data": {
      "text/plain": [
       "1000"
      ]
     },
     "execution_count": 19,
     "metadata": {},
     "output_type": "execute_result"
    }
   ],
   "source": [
    "ENV[\"COLUMNS\"] = 1000"
   ]
  },
  {
   "cell_type": "code",
   "execution_count": 20,
   "id": "71fe6495",
   "metadata": {},
   "outputs": [],
   "source": [
    "data = CSV.read(\"data.csv\", DataFrame);"
   ]
  },
  {
   "cell_type": "code",
   "execution_count": 23,
   "id": "ed934bf7",
   "metadata": {},
   "outputs": [
    {
     "data": {
      "text/plain": [
       "42-element Vector{String}:\n",
       " \"index\"\n",
       " \"Job Title\"\n",
       " \"Salary Estimate\"\n",
       " \"Job Description\"\n",
       " \"Rating\"\n",
       " \"Company Name\"\n",
       " \"Location\"\n",
       " \"Headquarters\"\n",
       " \"Size\"\n",
       " \"Founded\"\n",
       " \"Type of ownership\"\n",
       " \"Industry\"\n",
       " \"Sector\"\n",
       " ⋮\n",
       " \"pytorch\"\n",
       " \"scikit\"\n",
       " \"tensor\"\n",
       " \"hadoop\"\n",
       " \"tableau\"\n",
       " \"bi\"\n",
       " \"flink\"\n",
       " \"mongo\"\n",
       " \"google_an\"\n",
       " \"job_title_sim\"\n",
       " \"seniority_by_title\"\n",
       " \"Degree\""
      ]
     },
     "execution_count": 23,
     "metadata": {},
     "output_type": "execute_result"
    }
   ],
   "source": [
    "names(data)"
   ]
  },
  {
   "cell_type": "code",
   "execution_count": 21,
   "id": "aed1b71f",
   "metadata": {},
   "outputs": [
    {
     "data": {
      "text/html": [
       "<div class=\"data-frame\"><p>42 rows × 7 columns (omitted printing of 4 columns)</p><table class=\"data-frame\"><thead><tr><th></th><th>variable</th><th>mean</th><th>min</th></tr><tr><th></th><th title=\"Symbol\">Symbol</th><th title=\"Union{Nothing, Float64}\">Union…</th><th title=\"Any\">Any</th></tr></thead><tbody><tr><th>1</th><td>index</td><td>469.129</td><td>0</td></tr><tr><th>2</th><td>Job Title</td><td></td><td>Ag Data Scientist</td></tr><tr><th>3</th><td>Salary Estimate</td><td></td><td>$10-$17 Per Hour(Glassdoor est.)</td></tr><tr><th>4</th><td>Job Description</td><td></td><td>(We are unable to sponsor for this role now or in the future)\\n\\nFare Buzz is one of the leading online travel providers specializing in worldwide travel and innovative technology; due to our buying power we leverage a unique ability to negotiate aggressive deals on air, hotels, car and vacation rentals to pass the savings on to business professionals who travel frequently and the everyday consumer.\\n\\nWe are seeking a Business Data Analyst to help lead analysis on pricing opportunities, customer behavior, and competitive positioning to build a long-term pricing strategy for the firm. This person will be part of the Pricing team, giving them unique access to make impactful decisions on Fareportal&apos;s revenue. The right candidate should be high-performing, driven, willing to learn and excited about travel.\\n\\nResponsibilities:\\nWork collaboratively with departmental managers to identify areas of potential revenue growth (e.g. brand teams, marketing teams)\\nPerform analysis of highest growth opportunity areas to identify and recommend new ways to improve revenue (e.g. analyses around pricing opportunities, competitive positioning, and customer behavior)\\nUse statistical methods to analyze data and generate useful business reports outlining pricing recommendations\\nBuild insight from the data collected to improve customer retention and marketing\\nDesign a strategy to test pricing recommendations including a reasonable hypothesis, implementation, and key metrics for determining success\\nTrack test performance against key performance indicators (KPIs) and launch successive tests\\nClearly communicate results visually and verbally to stakeholders and senior management\\nSupport executive leaders in mobilizing and execution of long-term plans (e.g., program management, setting/tracking metrics, developing roadmaps, creating process maps)\\nRequirements:\\nBachelor&apos;s Degree in Statistics, Mathematics, Economics or similar quantitative discipline\\nMaster&apos;s Degree preferred\\n2+ years of experience working in a data analyst role\\nResults-oriented, self-driven individual with the ability to manage complex projects\\nSQL experience and advanced Excel skills required; Python, R, PowerBI preferred\\nMust have experience using google analytics\\nExcellent verbal and written communication skills; ability to create an effective presentation to drive action\\nAbility to collaborate effectively and work as part of a team\\nDetail-oriented individual\\nBasic understanding of Agile methodology</td></tr><tr><th>5</th><td>Rating</td><td>3.61887</td><td>-1.0</td></tr><tr><th>6</th><td>Company Name</td><td></td><td>1-800-FLOWERS.COM, Inc.\\n2.8</td></tr><tr><th>7</th><td>Location</td><td></td><td>Agoura Hills, CA</td></tr><tr><th>8</th><td>Headquarters</td><td></td><td>-1</td></tr><tr><th>9</th><td>Size</td><td></td><td>1 - 50 </td></tr><tr><th>10</th><td>Founded</td><td>1837.15</td><td>-1</td></tr><tr><th>11</th><td>Type of ownership</td><td></td><td>College / University</td></tr><tr><th>12</th><td>Industry</td><td></td><td>-1</td></tr><tr><th>13</th><td>Sector</td><td></td><td>-1</td></tr><tr><th>14</th><td>Revenue</td><td></td><td>$1 to $2 billion (USD)</td></tr><tr><th>15</th><td>Competitors</td><td></td><td>-1</td></tr><tr><th>16</th><td>Hourly</td><td>0.032345</td><td>0</td></tr><tr><th>17</th><td>Employer provided</td><td>0.0229111</td><td>0</td></tr><tr><th>18</th><td>Lower Salary</td><td>74.7547</td><td>15</td></tr><tr><th>19</th><td>Upper Salary</td><td>128.214</td><td>16</td></tr><tr><th>20</th><td>Avg Salary(K)</td><td>101.485</td><td>15.5</td></tr><tr><th>21</th><td>company_txt</td><td></td><td>1-800-FLOWERS.COM, Inc.</td></tr><tr><th>22</th><td>Job Location</td><td></td><td>AL</td></tr><tr><th>23</th><td>Age</td><td>47.5243</td><td>-1</td></tr><tr><th>24</th><td>Python</td><td>0.528302</td><td>0</td></tr><tr><th>25</th><td>spark</td><td>0.225067</td><td>0</td></tr><tr><th>26</th><td>aws</td><td>0.237197</td><td>0</td></tr><tr><th>27</th><td>excel</td><td>0.522911</td><td>0</td></tr><tr><th>28</th><td>sql</td><td>0.512129</td><td>0</td></tr><tr><th>29</th><td>sas</td><td>0.0889488</td><td>0</td></tr><tr><th>30</th><td>keras</td><td>0.0390836</td><td>0</td></tr><tr><th>&vellip;</th><td>&vellip;</td><td>&vellip;</td><td>&vellip;</td></tr></tbody></table></div>"
      ],
      "text/latex": [
       "\\begin{tabular}{r|cccc}\n",
       "\t& variable & mean & min & \\\\\n",
       "\t\\hline\n",
       "\t& Symbol & Union… & Any & \\\\\n",
       "\t\\hline\n",
       "\t1 & index & 469.129 & 0 & $\\dots$ \\\\\n",
       "\t2 & Job Title &  & Ag Data Scientist & $\\dots$ \\\\\n",
       "\t3 & Salary Estimate &  & \\$10-\\$17 Per Hour(Glassdoor est.) & $\\dots$ \\\\\n",
       "\t4 & Job Description &  & (We are unable to sponsor for this role now or in the future)\\textbackslash{}n\\textbackslash{}nFare Buzz is one of the leading online travel providers specializing in worldwide travel and innovative technology; due to our buying power we leverage a unique ability to negotiate aggressive deals on air, hotels, car and vacation rentals to pass the savings on to business professionals who travel frequently and the everyday consumer.\\textbackslash{}n\\textbackslash{}nWe are seeking a Business Data Analyst to help lead analysis on pricing opportunities, customer behavior, and competitive positioning to build a long-term pricing strategy for the firm. This person will be part of the Pricing team, giving them unique access to make impactful decisions on Fareportal's revenue. The right candidate should be high-performing, driven, willing to learn and excited about travel.\\textbackslash{}n\\textbackslash{}nResponsibilities:\\textbackslash{}nWork collaboratively with departmental managers to identify areas of potential revenue growth (e.g. brand teams, marketing teams)\\textbackslash{}nPerform analysis of highest growth opportunity areas to identify and recommend new ways to improve revenue (e.g. analyses around pricing opportunities, competitive positioning, and customer behavior)\\textbackslash{}nUse statistical methods to analyze data and generate useful business reports outlining pricing recommendations\\textbackslash{}nBuild insight from the data collected to improve customer retention and marketing\\textbackslash{}nDesign a strategy to test pricing recommendations including a reasonable hypothesis, implementation, and key metrics for determining success\\textbackslash{}nTrack test performance against key performance indicators (KPIs) and launch successive tests\\textbackslash{}nClearly communicate results visually and verbally to stakeholders and senior management\\textbackslash{}nSupport executive leaders in mobilizing and execution of long-term plans (e.g., program management, setting/tracking metrics, developing roadmaps, creating process maps)\\textbackslash{}nRequirements:\\textbackslash{}nBachelor's Degree in Statistics, Mathematics, Economics or similar quantitative discipline\\textbackslash{}nMaster's Degree preferred\\textbackslash{}n2+ years of experience working in a data analyst role\\textbackslash{}nResults-oriented, self-driven individual with the ability to manage complex projects\\textbackslash{}nSQL experience and advanced Excel skills required; Python, R, PowerBI preferred\\textbackslash{}nMust have experience using google analytics\\textbackslash{}nExcellent verbal and written communication skills; ability to create an effective presentation to drive action\\textbackslash{}nAbility to collaborate effectively and work as part of a team\\textbackslash{}nDetail-oriented individual\\textbackslash{}nBasic understanding of Agile methodology & $\\dots$ \\\\\n",
       "\t5 & Rating & 3.61887 & -1.0 & $\\dots$ \\\\\n",
       "\t6 & Company Name &  & 1-800-FLOWERS.COM, Inc.\\textbackslash{}n2.8 & $\\dots$ \\\\\n",
       "\t7 & Location &  & Agoura Hills, CA & $\\dots$ \\\\\n",
       "\t8 & Headquarters &  & -1 & $\\dots$ \\\\\n",
       "\t9 & Size &  & 1 - 50  & $\\dots$ \\\\\n",
       "\t10 & Founded & 1837.15 & -1 & $\\dots$ \\\\\n",
       "\t11 & Type of ownership &  & College / University & $\\dots$ \\\\\n",
       "\t12 & Industry &  & -1 & $\\dots$ \\\\\n",
       "\t13 & Sector &  & -1 & $\\dots$ \\\\\n",
       "\t14 & Revenue &  & \\$1 to \\$2 billion (USD) & $\\dots$ \\\\\n",
       "\t15 & Competitors &  & -1 & $\\dots$ \\\\\n",
       "\t16 & Hourly & 0.032345 & 0 & $\\dots$ \\\\\n",
       "\t17 & Employer provided & 0.0229111 & 0 & $\\dots$ \\\\\n",
       "\t18 & Lower Salary & 74.7547 & 15 & $\\dots$ \\\\\n",
       "\t19 & Upper Salary & 128.214 & 16 & $\\dots$ \\\\\n",
       "\t20 & Avg Salary(K) & 101.485 & 15.5 & $\\dots$ \\\\\n",
       "\t21 & company\\_txt &  & 1-800-FLOWERS.COM, Inc. & $\\dots$ \\\\\n",
       "\t22 & Job Location &  & AL & $\\dots$ \\\\\n",
       "\t23 & Age & 47.5243 & -1 & $\\dots$ \\\\\n",
       "\t24 & Python & 0.528302 & 0 & $\\dots$ \\\\\n",
       "\t25 & spark & 0.225067 & 0 & $\\dots$ \\\\\n",
       "\t26 & aws & 0.237197 & 0 & $\\dots$ \\\\\n",
       "\t27 & excel & 0.522911 & 0 & $\\dots$ \\\\\n",
       "\t28 & sql & 0.512129 & 0 & $\\dots$ \\\\\n",
       "\t29 & sas & 0.0889488 & 0 & $\\dots$ \\\\\n",
       "\t30 & keras & 0.0390836 & 0 & $\\dots$ \\\\\n",
       "\t$\\dots$ & $\\dots$ & $\\dots$ & $\\dots$ &  \\\\\n",
       "\\end{tabular}\n"
      ],
      "text/plain": [
       "\u001b[1m42×7 DataFrame\u001b[0m\n",
       "\u001b[1m Row \u001b[0m│\u001b[1m variable           \u001b[0m\u001b[1m mean      \u001b[0m\u001b[1m min                               \u001b[0m\u001b[1m median \u001b[0m\u001b[1m max                               \u001b[0m\u001b[1m nmissing \u001b[0m\u001b[1m eltype   \u001b[0m\n",
       "\u001b[1m     \u001b[0m│\u001b[90m Symbol             \u001b[0m\u001b[90m Union…    \u001b[0m\u001b[90m Any                               \u001b[0m\u001b[90m Union… \u001b[0m\u001b[90m Any                               \u001b[0m\u001b[90m Int64    \u001b[0m\u001b[90m DataType \u001b[0m\n",
       "─────┼─────────────────────────────────────────────────────────────────────────────────────────────────────────────────────────────────\n",
       "   1 │ index               469.129    0                                  472.5   955                                       0  Int64\n",
       "   2 │ Job Title          \u001b[90m           \u001b[0m Ag Data Scientist                 \u001b[90m        \u001b[0m Web Data Analyst                          0  String\n",
       "   3 │ Salary Estimate    \u001b[90m           \u001b[0m $10-$17 Per Hour(Glassdoor est.)  \u001b[90m        \u001b[0m Employer Provided Salary:$85K-$9…         0  String\n",
       "   4 │ Job Description    \u001b[90m           \u001b[0m (We are unable to sponsor for th… \u001b[90m        \u001b[0m \\uad\\uadMissile Systems provides…         0  String\n",
       "   5 │ Rating              3.61887    -1.0                               3.7     5.0                                       0  Float64\n",
       "   6 │ Company Name       \u001b[90m           \u001b[0m 1-800-FLOWERS.COM, Inc.\\n2.8      \u001b[90m        \u001b[0m webfx.com\\n4.7                            0  String\n",
       "   7 │ Location           \u001b[90m           \u001b[0m Agoura Hills, CA                  \u001b[90m        \u001b[0m Worcester, MA                             0  String\n",
       "   8 │ Headquarters       \u001b[90m           \u001b[0m -1                                \u001b[90m        \u001b[0m Zurich, Switzerland                       0  String31\n",
       "   9 │ Size               \u001b[90m           \u001b[0m 1 - 50                            \u001b[90m        \u001b[0m unknown                                   0  String15\n",
       "  10 │ Founded             1837.15    -1                                 1988.0  2019                                      0  Int64\n",
       "  11 │ Type of ownership  \u001b[90m           \u001b[0m College / University              \u001b[90m        \u001b[0m Subsidiary or Business Segment            0  String31\n",
       "  ⋮  │         ⋮               ⋮                      ⋮                    ⋮                     ⋮                     ⋮         ⋮\n",
       "  33 │ tensor              0.097035   0                                  0.0     1                                         0  Int64\n",
       "  34 │ hadoop              0.167116   0                                  0.0     1                                         0  Int64\n",
       "  35 │ tableau             0.199461   0                                  0.0     1                                         0  Int64\n",
       "  36 │ bi                  0.0754717  0                                  0.0     1                                         0  Int64\n",
       "  37 │ flink               0.0134771  0                                  0.0     1                                         0  Int64\n",
       "  38 │ mongo               0.0498652  0                                  0.0     1                                         0  Int64\n",
       "  39 │ google_an           0.0188679  0                                  0.0     1                                         0  Int64\n",
       "  40 │ job_title_sim      \u001b[90m           \u001b[0m Data scientist project manager    \u001b[90m        \u001b[0m other scientist                           0  String31\n",
       "  41 │ seniority_by_title \u001b[90m           \u001b[0m jr                                \u001b[90m        \u001b[0m sr                                        0  String3\n",
       "  42 │ Degree             \u001b[90m           \u001b[0m M                                 \u001b[90m        \u001b[0m na                                        0  String3\n",
       "\u001b[36m                                                                                                                        21 rows omitted\u001b[0m"
      ]
     },
     "execution_count": 21,
     "metadata": {},
     "output_type": "execute_result"
    }
   ],
   "source": [
    "describe(data)"
   ]
  },
  {
   "cell_type": "code",
   "execution_count": 15,
   "id": "f4d2adee",
   "metadata": {},
   "outputs": [
    {
     "data": {
      "text/plain": [
       "(742, 42)"
      ]
     },
     "execution_count": 15,
     "metadata": {},
     "output_type": "execute_result"
    }
   ],
   "source": [
    "n, p = size(data)"
   ]
  },
  {
   "cell_type": "code",
   "execution_count": 18,
   "id": "deed19a8",
   "metadata": {},
   "outputs": [
    {
     "data": {
      "text/html": [
       "<div class=\"data-frame\"><p>3 rows × 42 columns (omitted printing of 38 columns)</p><table class=\"data-frame\"><thead><tr><th></th><th>index</th><th>Job Title</th><th>Salary Estimate</th><th>Job Description</th></tr><tr><th></th><th title=\"Int64\">Int64</th><th title=\"String\">String</th><th title=\"String\">String</th><th title=\"String\">String</th></tr></thead><tbody><tr><th>1</th><td>0</td><td>Data Scientist</td><td>$53K-$91K (Glassdoor est.)</td><td>Data Scientist\\nLocation: Albuquerque, NM\\nEducation Required: Bachelor’s degree required, preferably in math, engineering, business, or the sciences.\\nSkills Required:\\nBachelor’s Degree in relevant field, e.g., math, data analysis, database, computer science, Artificial Intelligence (AI); three years’ experience credit for Master’s degree; five years’ experience credit for a Ph.D\\nApplicant should be proficient in the use of Power BI, Tableau, Python, MATLAB, Microsoft Word, PowerPoint, Excel, and working knowledge of MS Access, LMS, SAS, data visualization tools, and have a strong algorithmic aptitude\\nExcellent verbal and written communication skills, and quantitative analytical skills are required\\nApplicant must be able to work in a team environment\\nU.S. citizenship and ability to obtain a DoD Secret Clearance required\\nResponsibilities: The applicant will be responsible for formulating analytical solutions to complex data problems; creating data analytic models to improve data metrics; analyzing customer behavior and trends; delivering insights to stakeholders, as well as designing and crafting reports, dashboards, models, and algorithms to make data insights actionable; selecting features, building and optimizing classifiers using machine learning techniques; data mining using state-of-the-art methods, extending organization’s data with third party sources of information when needed; enhancing data collection procedures to include information that is relevant for building analytic systems; processing, cleansing, and verifying the integrity of data used for analysis; doing ad-hoc analysis and presenting results in a clear manner; and creating automated anomaly detection systems and constant tracking of its performance.\\nBenefits:\\nWe offer competitive salaries commensurate with education and experience. We have an excellent benefits package that includes:\\nComprehensive health, dental, life, long and short term disability insurance\\n100% Company funded Retirement Plans\\nGenerous vacation, holiday and sick pay plans\\nTuition assistance\\n\\nBenefits are provided to employees regularly working a minimum of 30 hours per week.\\n\\nTecolote Research is a private, employee-owned corporation where people are our primary resource. Our investments in technology and training give our employees the tools to ensure our clients are provided the solutions they need, and our very high employee retention rate and stable workforce is an added value to our customers. Apply now to connect with a company that invests in you.</td></tr><tr><th>2</th><td>1</td><td>Healthcare Data Scientist</td><td>$63K-$112K (Glassdoor est.)</td><td>What You Will Do:\\n\\nI. General Summary\\n\\nThe Healthcare Data Scientist position will join our Advanced Analytics group at the University of Maryland Medical System (UMMS) in support of its strategic priority to become a data-driven and outcomes-oriented organization. The successful candidate will have 3+ years of experience with Machine Learning, Predictive Modeling, Statistical Analysis, Mathematical Optimization, Algorithm Development and a passion for working with healthcare data. Previous experience with various computational approaches along with an ability to demonstrate a portfolio of relevant prior projects is essential. This position will report to the UMMS Vice President for Enterprise Data and Analytics (ED&amp;A).\\n\\nII. Principal Responsibilities and Tasks\\n\\n• Develops predictive and prescriptive analytic models in support of the organization’s clinical, operations and business initiatives and priorities.\\n• Deploys solutions so that they provide actionable insights to the organization and are embedded or integrated with application systems\\n• Supports and drives analytic efforts designed around organization’s strategic priorities and clinical/business problems\\n• Works in a team to drive disruptive innovation, which may translate into improved quality of care, clinical outcomes, reduced costs, temporal efficiencies and process improvements.\\n• Builds and extends our analytics portfolio supported by robust documentation\\n• Works with autonomy to find solutions to complex problems using open source tools and in-house development\\n• Stays abreast of state-of-the-art literature in the fields of operations research, statistical modeling, statistical process control and mathematical optimization\\n• Creates, communicates, and manages the project plans and other required project documentation and provides updates to leadership as necessary\\n• Develops and maintains relationships with business, IT and clinical leaders and stakeholders across the enterprise to facilitate collaboration and effective communication\\n• Works with the analytics team and clinical/business stakeholders to develop pilots so that they may be tested and validated in pilot settings\\n• Performs analysis to evaluate primary and secondary objectives from such pilots\\n• Assists leadership with strategies for scaling successful projects across the organization and enhances the analytics applications based on feedback from end-users and clinical/business consumers\\n• Assists leadership with dissemination of success stories (and failures) in an effort to increase analytics literacy and adoption across the organization.\\n\\nWhat You Need to Be Successful:\\n\\nIII. Education and Experience\\n\\n• Master’s or higher degree (may be substituted by relevant work experience) in applied mathematics, physics, computer science, engineering, statistics or a related field\\n• 3+ years of Mathematical Optimization, Machine Learning, Predictive Analytics and Algorithm Development experience (experience with tools such as WEKA, RapidMiner, R. Python or other open source tools strongly desired)\\n• Strong development skills in two or more of the following: C/C++, C#, Python, Java\\n• Combining analytic methods with advanced data visualizations\\n• Expert ability to breakdown and clearly define problems\\n• Experience with Natural Language Processing preferred\\n\\nIV. Knowledge, Skills and Abilities\\n\\n• Proven communications skills – Effective at working independently and in collaboration with other staff members. Capable of clearly presenting findings orally, in writing, or through graphics.\\n• Proven analytical skills – Able to compare, contrast, and validate work with keen attention to detail. Skilled in working with “real world” data including scrubbing, transformation, and imputation.\\n• Proven problem solving skills – Able to plan work, set clear direction, and coordinate own tasks in a fast-paced multidisciplinary environment. Expert at triaging issues, identifying data anomalies, and debugging software.\\n• Design and prototype new application functionality for our products.\\n• Change oriented – actively generates process improvements; supports and drives change, and confronts difficult circumstances in creative ways\\n• Effective communicator and change agent\\n• Ability to prioritize the tasks of the project timeline to achieve the desired results\\n• Strong analytic and problem solving skills\\n• Ability to cooperatively and effectively work with people from various organization levels\\n\\nWe are an Equal Opportunity Employer and do not discriminate against any employee or applicant for employment because of race, color, sex, age, national origin, religion, sexual orientation, gender identity, status as a veteran, and basis of disability or any other federal, state or local protected class.</td></tr><tr><th>3</th><td>2</td><td>Data Scientist</td><td>$80K-$90K (Glassdoor est.)</td><td>KnowBe4, Inc. is a high growth information security company. We are the world&apos;s largest provider of new-school security awareness training and simulated phishing. KnowBe4 was created to help organizations manage the ongoing problem of social engineering. Tens of thousands of organizations worldwide use KnowBe4&apos;s platform to mobilize their end users as a last line of defense and enable them to make better security decisions, every day.\\n\\nWe are ranked #1 best place to work in technology nationwide by Fortune Magazine and have placed #1 or #2 in The Tampa Bay Top Workplaces Survey for the last four years. We also just had our 27th record-setting quarter in a row!\\n\\nThe Data Scientist will work closely with the VP of FP&amp;A and the Quantitative Analytics Manager to implement advanced analytical models and other data-driven solutions.\\n\\nResponsibilities:\\nWork with key stakeholders throughout the organization to identify opportunities using financial data to develop business solutions.\\nDevelop new and enhance existing data collection procedures to ensure that all data relevant for analyses is captured.\\nCleanse, consolidate, and verify the integrity of data used in analyses.\\nBuild and validate predictive models to increase customer retention, revenue generation, and other business outcomes.\\nDevelop relevant statistical models to assist with profitability forecasting\\nCreate the analytics to leverage known, inferred and appended information about origins and recognizing patterns to assist in outlook forecasting\\nAssist in the design and data modeling of data warehouse.\\nVisualize data, especially in reports and dashboards, to communicate analysis results to stakeholders.\\nExtend data collection to unstructured data within the company and external sources\\nMine and collect data (both structured and unstructured) to detect patterns, opportunities and insights that drive our organization\\nCreate and execute automation and data mining requests utilizing SQL, Access, Excel, SAS and other statistical programs\\nTrouble shoot forecast and optimization anomalies with FP&amp;A team through the use of statistical and mathematical optimization models. Develop testing to explain and or reduce these anomalies.\\nOversee and develop key metric forecasts as well as provide budget support based on trends in the business/industry.\\nMinimum Qualifications:\\nMaster&apos;s degree in Statistics, Computer Science, Mathematics or other quantitative discipline required\\n2-3 years of experience in similar role (Master&apos;s Degree)\\n0-2 years of experience in similar role (PhD)\\nExperience leveraging predictive modeling, big data analytics, exploratory data analysis and machine learning to drive significant business impact\\nExperience with statistical computer languages (Python, R etc.) to manipulate and analyze large datasets preferred.\\nExperience with data visualization tools like D3.js, matplotlib, etc., preferred\\nExceptional understanding of machine learning algorithms such as Random Forest, SVM, k-NN, Naïve Bayes, Gradient Boosting a plus.\\nApplied statistical skills including statistical testing, regression, etc.\\nExperience with data bases, query languages, and associated data architecture.\\nExperience with distributed computing tools (Hive, Spark, etc.) is a plus.\\nStrong analytical skills and ability to meet project deadlines.\\nNote: An applicant assessment, background check and drug test may be part of your hiring procedure.\\n\\nNo recruitment agencies, please.</td></tr></tbody></table></div>"
      ],
      "text/latex": [
       "\\begin{tabular}{r|ccccc}\n",
       "\t& index & Job Title & Salary Estimate & Job Description & \\\\\n",
       "\t\\hline\n",
       "\t& Int64 & String & String & String & \\\\\n",
       "\t\\hline\n",
       "\t1 & 0 & Data Scientist & \\$53K-\\$91K (Glassdoor est.) & Data Scientist\\textbackslash{}nLocation: Albuquerque, NM\\textbackslash{}nEducation Required: Bachelor’s degree required, preferably in math, engineering, business, or the sciences.\\textbackslash{}nSkills Required:\\textbackslash{}nBachelor’s Degree in relevant field, e.g., math, data analysis, database, computer science, Artificial Intelligence (AI); three years’ experience credit for Master’s degree; five years’ experience credit for a Ph.D\\textbackslash{}nApplicant should be proficient in the use of Power BI, Tableau, Python, MATLAB, Microsoft Word, PowerPoint, Excel, and working knowledge of MS Access, LMS, SAS, data visualization tools, and have a strong algorithmic aptitude\\textbackslash{}nExcellent verbal and written communication skills, and quantitative analytical skills are required\\textbackslash{}nApplicant must be able to work in a team environment\\textbackslash{}nU.S. citizenship and ability to obtain a DoD Secret Clearance required\\textbackslash{}nResponsibilities: The applicant will be responsible for formulating analytical solutions to complex data problems; creating data analytic models to improve data metrics; analyzing customer behavior and trends; delivering insights to stakeholders, as well as designing and crafting reports, dashboards, models, and algorithms to make data insights actionable; selecting features, building and optimizing classifiers using machine learning techniques; data mining using state-of-the-art methods, extending organization’s data with third party sources of information when needed; enhancing data collection procedures to include information that is relevant for building analytic systems; processing, cleansing, and verifying the integrity of data used for analysis; doing ad-hoc analysis and presenting results in a clear manner; and creating automated anomaly detection systems and constant tracking of its performance.\\textbackslash{}nBenefits:\\textbackslash{}nWe offer competitive salaries commensurate with education and experience. We have an excellent benefits package that includes:\\textbackslash{}nComprehensive health, dental, life, long and short term disability insurance\\textbackslash{}n100\\% Company funded Retirement Plans\\textbackslash{}nGenerous vacation, holiday and sick pay plans\\textbackslash{}nTuition assistance\\textbackslash{}n\\textbackslash{}nBenefits are provided to employees regularly working a minimum of 30 hours per week.\\textbackslash{}n\\textbackslash{}nTecolote Research is a private, employee-owned corporation where people are our primary resource. Our investments in technology and training give our employees the tools to ensure our clients are provided the solutions they need, and our very high employee retention rate and stable workforce is an added value to our customers. Apply now to connect with a company that invests in you. & $\\dots$ \\\\\n",
       "\t2 & 1 & Healthcare Data Scientist & \\$63K-\\$112K (Glassdoor est.) & What You Will Do:\\textbackslash{}n\\textbackslash{}nI. General Summary\\textbackslash{}n\\textbackslash{}nThe Healthcare Data Scientist position will join our Advanced Analytics group at the University of Maryland Medical System (UMMS) in support of its strategic priority to become a data-driven and outcomes-oriented organization. The successful candidate will have 3+ years of experience with Machine Learning, Predictive Modeling, Statistical Analysis, Mathematical Optimization, Algorithm Development and a passion for working with healthcare data. Previous experience with various computational approaches along with an ability to demonstrate a portfolio of relevant prior projects is essential. This position will report to the UMMS Vice President for Enterprise Data and Analytics (ED\\&A).\\textbackslash{}n\\textbackslash{}nII. Principal Responsibilities and Tasks\\textbackslash{}n\\textbackslash{}n• Develops predictive and prescriptive analytic models in support of the organization’s clinical, operations and business initiatives and priorities.\\textbackslash{}n• Deploys solutions so that they provide actionable insights to the organization and are embedded or integrated with application systems\\textbackslash{}n• Supports and drives analytic efforts designed around organization’s strategic priorities and clinical/business problems\\textbackslash{}n• Works in a team to drive disruptive innovation, which may translate into improved quality of care, clinical outcomes, reduced costs, temporal efficiencies and process improvements.\\textbackslash{}n• Builds and extends our analytics portfolio supported by robust documentation\\textbackslash{}n• Works with autonomy to find solutions to complex problems using open source tools and in-house development\\textbackslash{}n• Stays abreast of state-of-the-art literature in the fields of operations research, statistical modeling, statistical process control and mathematical optimization\\textbackslash{}n• Creates, communicates, and manages the project plans and other required project documentation and provides updates to leadership as necessary\\textbackslash{}n• Develops and maintains relationships with business, IT and clinical leaders and stakeholders across the enterprise to facilitate collaboration and effective communication\\textbackslash{}n• Works with the analytics team and clinical/business stakeholders to develop pilots so that they may be tested and validated in pilot settings\\textbackslash{}n• Performs analysis to evaluate primary and secondary objectives from such pilots\\textbackslash{}n• Assists leadership with strategies for scaling successful projects across the organization and enhances the analytics applications based on feedback from end-users and clinical/business consumers\\textbackslash{}n• Assists leadership with dissemination of success stories (and failures) in an effort to increase analytics literacy and adoption across the organization.\\textbackslash{}n\\textbackslash{}nWhat You Need to Be Successful:\\textbackslash{}n\\textbackslash{}nIII. Education and Experience\\textbackslash{}n\\textbackslash{}n• Master’s or higher degree (may be substituted by relevant work experience) in applied mathematics, physics, computer science, engineering, statistics or a related field\\textbackslash{}n• 3+ years of Mathematical Optimization, Machine Learning, Predictive Analytics and Algorithm Development experience (experience with tools such as WEKA, RapidMiner, R. Python or other open source tools strongly desired)\\textbackslash{}n• Strong development skills in two or more of the following: C/C++, C\\#, Python, Java\\textbackslash{}n• Combining analytic methods with advanced data visualizations\\textbackslash{}n• Expert ability to breakdown and clearly define problems\\textbackslash{}n• Experience with Natural Language Processing preferred\\textbackslash{}n\\textbackslash{}nIV. Knowledge, Skills and Abilities\\textbackslash{}n\\textbackslash{}n• Proven communications skills – Effective at working independently and in collaboration with other staff members. Capable of clearly presenting findings orally, in writing, or through graphics.\\textbackslash{}n• Proven analytical skills – Able to compare, contrast, and validate work with keen attention to detail. Skilled in working with “real world” data including scrubbing, transformation, and imputation.\\textbackslash{}n• Proven problem solving skills – Able to plan work, set clear direction, and coordinate own tasks in a fast-paced multidisciplinary environment. Expert at triaging issues, identifying data anomalies, and debugging software.\\textbackslash{}n• Design and prototype new application functionality for our products.\\textbackslash{}n• Change oriented – actively generates process improvements; supports and drives change, and confronts difficult circumstances in creative ways\\textbackslash{}n• Effective communicator and change agent\\textbackslash{}n• Ability to prioritize the tasks of the project timeline to achieve the desired results\\textbackslash{}n• Strong analytic and problem solving skills\\textbackslash{}n• Ability to cooperatively and effectively work with people from various organization levels\\textbackslash{}n\\textbackslash{}nWe are an Equal Opportunity Employer and do not discriminate against any employee or applicant for employment because of race, color, sex, age, national origin, religion, sexual orientation, gender identity, status as a veteran, and basis of disability or any other federal, state or local protected class. & $\\dots$ \\\\\n",
       "\t3 & 2 & Data Scientist & \\$80K-\\$90K (Glassdoor est.) & KnowBe4, Inc. is a high growth information security company. We are the world's largest provider of new-school security awareness training and simulated phishing. KnowBe4 was created to help organizations manage the ongoing problem of social engineering. Tens of thousands of organizations worldwide use KnowBe4's platform to mobilize their end users as a last line of defense and enable them to make better security decisions, every day.\\textbackslash{}n\\textbackslash{}nWe are ranked \\#1 best place to work in technology nationwide by Fortune Magazine and have placed \\#1 or \\#2 in The Tampa Bay Top Workplaces Survey for the last four years. We also just had our 27th record-setting quarter in a row!\\textbackslash{}n\\textbackslash{}nThe Data Scientist will work closely with the VP of FP\\&A and the Quantitative Analytics Manager to implement advanced analytical models and other data-driven solutions.\\textbackslash{}n\\textbackslash{}nResponsibilities:\\textbackslash{}nWork with key stakeholders throughout the organization to identify opportunities using financial data to develop business solutions.\\textbackslash{}nDevelop new and enhance existing data collection procedures to ensure that all data relevant for analyses is captured.\\textbackslash{}nCleanse, consolidate, and verify the integrity of data used in analyses.\\textbackslash{}nBuild and validate predictive models to increase customer retention, revenue generation, and other business outcomes.\\textbackslash{}nDevelop relevant statistical models to assist with profitability forecasting\\textbackslash{}nCreate the analytics to leverage known, inferred and appended information about origins and recognizing patterns to assist in outlook forecasting\\textbackslash{}nAssist in the design and data modeling of data warehouse.\\textbackslash{}nVisualize data, especially in reports and dashboards, to communicate analysis results to stakeholders.\\textbackslash{}nExtend data collection to unstructured data within the company and external sources\\textbackslash{}nMine and collect data (both structured and unstructured) to detect patterns, opportunities and insights that drive our organization\\textbackslash{}nCreate and execute automation and data mining requests utilizing SQL, Access, Excel, SAS and other statistical programs\\textbackslash{}nTrouble shoot forecast and optimization anomalies with FP\\&A team through the use of statistical and mathematical optimization models. Develop testing to explain and or reduce these anomalies.\\textbackslash{}nOversee and develop key metric forecasts as well as provide budget support based on trends in the business/industry.\\textbackslash{}nMinimum Qualifications:\\textbackslash{}nMaster's degree in Statistics, Computer Science, Mathematics or other quantitative discipline required\\textbackslash{}n2-3 years of experience in similar role (Master's Degree)\\textbackslash{}n0-2 years of experience in similar role (PhD)\\textbackslash{}nExperience leveraging predictive modeling, big data analytics, exploratory data analysis and machine learning to drive significant business impact\\textbackslash{}nExperience with statistical computer languages (Python, R etc.) to manipulate and analyze large datasets preferred.\\textbackslash{}nExperience with data visualization tools like D3.js, matplotlib, etc., preferred\\textbackslash{}nExceptional understanding of machine learning algorithms such as Random Forest, SVM, k-NN, Naïve Bayes, Gradient Boosting a plus.\\textbackslash{}nApplied statistical skills including statistical testing, regression, etc.\\textbackslash{}nExperience with data bases, query languages, and associated data architecture.\\textbackslash{}nExperience with distributed computing tools (Hive, Spark, etc.) is a plus.\\textbackslash{}nStrong analytical skills and ability to meet project deadlines.\\textbackslash{}nNote: An applicant assessment, background check and drug test may be part of your hiring procedure.\\textbackslash{}n\\textbackslash{}nNo recruitment agencies, please. & $\\dots$ \\\\\n",
       "\\end{tabular}\n"
      ],
      "text/plain": [
       "\u001b[1m3×42 DataFrame\u001b[0m\n",
       "\u001b[1m Row \u001b[0m│\u001b[1m index \u001b[0m\u001b[1m Job Title                 \u001b[0m\u001b[1m Salary Estimate             \u001b[0m\u001b[1m Job Description                   \u001b[0m\u001b[1m Rating  \u001b[0m\u001b[1m Company Name                      \u001b[0m\u001b[1m Location        \u001b[0m\u001b[1m Headquarters   \u001b[0m\u001b[1m Size        \u001b[0m\u001b[1m Founded \u001b[0m\u001b[1m Type of ownership  \u001b[0m\u001b[1m Industry                         \u001b[0m\u001b[1m Sector              \u001b[0m\u001b[1m Revenue                    \u001b[0m\u001b[1m Competitors \u001b[0m\u001b[1m Hourly \u001b[0m\u001b[1m Employer provided \u001b[0m\u001b[1m Lower Salary \u001b[0m\u001b[1m Upper Salary \u001b[0m\u001b[1m Avg Salary(K) \u001b[0m\u001b[1m company_txt                       \u001b[0m\u001b[1m Job Location \u001b[0m\u001b[1m Age   \u001b[0m\u001b[1m Python \u001b[0m\u001b[1m spark \u001b[0m\u001b[1m aws   \u001b[0m\u001b[1m excel \u001b[0m\u001b[1m sql   \u001b[0m\u001b[1m sas   \u001b[0m\u001b[1m keras \u001b[0m\u001b[1m pytorch \u001b[0m\u001b[1m scikit \u001b[0m\u001b[1m tensor \u001b[0m\u001b[1m hadoop \u001b[0m\u001b[1m tableau \u001b[0m\u001b[1m bi    \u001b[0m\u001b[1m flink \u001b[0m\u001b[1m mongo \u001b[0m\u001b[1m google_an \u001b[0m\u001b[1m job_title_sim  \u001b[0m\u001b[1m seniority_by_title \u001b[0m\u001b[1m Degree  \u001b[0m\n",
       "\u001b[1m     \u001b[0m│\u001b[90m Int64 \u001b[0m\u001b[90m String                    \u001b[0m\u001b[90m String                      \u001b[0m\u001b[90m String                            \u001b[0m\u001b[90m Float64 \u001b[0m\u001b[90m String                            \u001b[0m\u001b[90m String          \u001b[0m\u001b[90m String31       \u001b[0m\u001b[90m String15    \u001b[0m\u001b[90m Int64   \u001b[0m\u001b[90m String31           \u001b[0m\u001b[90m String                           \u001b[0m\u001b[90m String              \u001b[0m\u001b[90m String                     \u001b[0m\u001b[90m String      \u001b[0m\u001b[90m Int64  \u001b[0m\u001b[90m Int64             \u001b[0m\u001b[90m Int64        \u001b[0m\u001b[90m Int64        \u001b[0m\u001b[90m Float64       \u001b[0m\u001b[90m String                            \u001b[0m\u001b[90m String3      \u001b[0m\u001b[90m Int64 \u001b[0m\u001b[90m Int64  \u001b[0m\u001b[90m Int64 \u001b[0m\u001b[90m Int64 \u001b[0m\u001b[90m Int64 \u001b[0m\u001b[90m Int64 \u001b[0m\u001b[90m Int64 \u001b[0m\u001b[90m Int64 \u001b[0m\u001b[90m Int64   \u001b[0m\u001b[90m Int64  \u001b[0m\u001b[90m Int64  \u001b[0m\u001b[90m Int64  \u001b[0m\u001b[90m Int64   \u001b[0m\u001b[90m Int64 \u001b[0m\u001b[90m Int64 \u001b[0m\u001b[90m Int64 \u001b[0m\u001b[90m Int64     \u001b[0m\u001b[90m String31       \u001b[0m\u001b[90m String3            \u001b[0m\u001b[90m String3 \u001b[0m\n",
       "─────┼────────────────────────────────────────────────────────────────────────────────────────────────────────────────────────────────────────────────────────────────────────────────────────────────────────────────────────────────────────────────────────────────────────────────────────────────────────────────────────────────────────────────────────────────────────────────────────────────────────────────────────────────────────────────────────────────────────────────────────────────────────────────────────────────────────────────────────────────────────────────────────────────────────────────────────────────\n",
       "   1 │     0  Data Scientist             $53K-$91K (Glassdoor est.)   Data Scientist\\nLocation: Albuqu…      3.8  Tecolote Research\\n3.8             Albuquerque, NM  Goleta, CA      501 - 1000      1973  Company - Private   Aerospace & Defense               Aerospace & Defense  $50 to $100 million (USD)   -1                0                  0            53            91           72.0  Tecolote Research                  NM               48       1      0      0      1      0      1      0        0       0       0       0        1      1      0      0          0  data scientist  na                  M\n",
       "   2 │     1  Healthcare Data Scientist  $63K-$112K (Glassdoor est.)  What You Will Do:\\n\\nI. General …      3.4  University of Maryland Medical S…  Linthicum, MD    Baltimore, MD   10000+          1984  Other Organization  Health Care Services & Hospitals  Health Care          $2 to $5 billion (USD)      -1                0                  0            63           112           87.5  University of Maryland Medical S…  MD               37       1      0      0      0      0      0      0        0       0       0       0        0      0      0      0          0  data scientist  na                  M\n",
       "   3 │     2  Data Scientist             $80K-$90K (Glassdoor est.)   KnowBe4, Inc. is a high growth i…      4.8  KnowBe4\\n4.8                       Clearwater, FL   Clearwater, FL  501 - 1000      2010  Company - Private   Security Services                 Business Services    $100 to $500 million (USD)  -1                0                  0            80            90           85.0  KnowBe4                            FL               11       1      1      0      1      1      1      0        0       0       0       0        0      0      0      0          0  data scientist  na                  M"
      ]
     },
     "execution_count": 18,
     "metadata": {},
     "output_type": "execute_result"
    }
   ],
   "source": [
    "first(data, 3)"
   ]
  },
  {
   "cell_type": "code",
   "execution_count": 24,
   "id": "384fd323",
   "metadata": {},
   "outputs": [
    {
     "data": {
      "text/plain": [
       "742-element PooledArrays.PooledVector{String31, UInt32, Vector{UInt32}}:\n",
       " \"data scientist\"\n",
       " \"data scientist\"\n",
       " \"data scientist\"\n",
       " \"data scientist\"\n",
       " \"data scientist\"\n",
       " \"data scientist\"\n",
       " \"data scientist\"\n",
       " \"data scientist\"\n",
       " \"other scientist\"\n",
       " \"data scientist\"\n",
       " \"data scientist\"\n",
       " \"data scientist\"\n",
       " \"data scientist\"\n",
       " ⋮\n",
       " \"other scientist\"\n",
       " \"data engineer\"\n",
       " \"machine learning engineer\"\n",
       " \"analyst\"\n",
       " \"data scientist\"\n",
       " \"data engineer\"\n",
       " \"data scientist\"\n",
       " \"other scientist\"\n",
       " \"data engineer\"\n",
       " \"other scientist\"\n",
       " \"data scientist\"\n",
       " \"other scientist\""
      ]
     },
     "execution_count": 24,
     "metadata": {},
     "output_type": "execute_result"
    }
   ],
   "source": [
    "data[!, :job_title_sim]"
   ]
  },
  {
   "cell_type": "code",
   "execution_count": null,
   "id": "e077c58b",
   "metadata": {},
   "outputs": [],
   "source": []
  }
 ],
 "metadata": {
  "kernelspec": {
   "display_name": "Julia 1.7.1",
   "language": "julia",
   "name": "julia-1.7"
  },
  "language_info": {
   "file_extension": ".jl",
   "mimetype": "application/julia",
   "name": "julia",
   "version": "1.7.1"
  }
 },
 "nbformat": 4,
 "nbformat_minor": 5
}
